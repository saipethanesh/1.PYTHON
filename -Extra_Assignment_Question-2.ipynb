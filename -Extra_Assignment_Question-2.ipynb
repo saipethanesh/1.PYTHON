{
 "cells": [
  {
   "cell_type": "code",
   "execution_count": 1,
   "id": "4c0c733b-6864-4bb0-be0a-317f09e21a0a",
   "metadata": {},
   "outputs": [
    {
     "name": "stdout",
     "output_type": "stream",
     "text": [
      "0\n",
      "1\n",
      "2\n",
      "3\n",
      "4\n",
      "5\n",
      "6\n",
      "7\n",
      "8\n",
      "9\n",
      "10\n",
      "11\n",
      "12\n",
      "13\n",
      "14\n",
      "15\n",
      "16\n",
      "17\n",
      "18\n",
      "19\n",
      "20\n"
     ]
    }
   ],
   "source": [
    "for num in range(21):\n",
    "    print(num)"
   ]
  },
  {
   "cell_type": "code",
   "execution_count": 2,
   "id": "0362b300-77d2-4542-964c-a774355f3c03",
   "metadata": {},
   "outputs": [
    {
     "name": "stdout",
     "output_type": "stream",
     "text": [
      "10 11 12 13 14 15 16 17 18 19 "
     ]
    }
   ],
   "source": [
    "for num in range(10, 20):\n",
    "    print(num, end=\" \")\n",
    "\n"
   ]
  },
  {
   "cell_type": "code",
   "execution_count": 3,
   "id": "adaba946-08b0-4232-9fe5-fedb262e7150",
   "metadata": {},
   "outputs": [
    {
     "name": "stdout",
     "output_type": "stream",
     "text": [
      "List2: [10, 20, 14, 55, 43, 87, 76]\n",
      "Number of items in the List2: 7\n"
     ]
    }
   ],
   "source": [
    "list2 = [10, 20, 14, 55, 43, 87, 76]\n",
    "print(\"List2:\", list2)\n",
    "print(\"Number of items in the List2:\", len(list2))"
   ]
  },
  {
   "cell_type": "code",
   "execution_count": 5,
   "id": "38181bbe-d3a8-4822-b0aa-8e26acee10c3",
   "metadata": {},
   "outputs": [
    {
     "name": "stdout",
     "output_type": "stream",
     "text": [
      "Artificial Intelligence\n",
      "A\n",
      "r\n",
      "t\n",
      "i\n",
      "f\n",
      "i\n",
      "c\n",
      "i\n",
      "a\n",
      "l\n",
      " \n",
      "I\n",
      "n\n",
      "t\n",
      "e\n",
      "l\n",
      "l\n",
      "i\n",
      "g\n",
      "e\n",
      "n\n",
      "c\n",
      "e\n"
     ]
    }
   ],
   "source": [
    "text = \"Artificial Intelligence\"\n",
    "print(\"Artificial Intelligence\")\n",
    "for char in text:\n",
    "    print(char)\n"
   ]
  },
  {
   "cell_type": "code",
   "execution_count": 6,
   "id": "4953aa2b-3d89-4338-8690-ecadc4091402",
   "metadata": {},
   "outputs": [
    {
     "name": "stdin",
     "output_type": "stream",
     "text": [
      "Enter your name:  SAI\n",
      "Enter your age:  24\n",
      "Enter your profession:  CSE\n"
     ]
    },
    {
     "name": "stdout",
     "output_type": "stream",
     "text": [
      "-Your Name-\n",
      "SAI\n",
      "-Your Age-\n",
      "24\n",
      "-Your Profession-\n",
      "CSE\n"
     ]
    }
   ],
   "source": [
    "name = input(\"Enter your name: \")\n",
    "age = input(\"Enter your age: \")\n",
    "profession = input(\"Enter your profession: \")\n",
    "\n",
    "# Print the inputs\n",
    "print(\"-Your Name-\")\n",
    "print(name)\n",
    "print(\"-Your Age-\")\n",
    "print(age)\n",
    "print(\"-Your Profession-\")\n",
    "print(profession)\n"
   ]
  },
  {
   "cell_type": "code",
   "execution_count": 7,
   "id": "a4269aaf-a447-4c81-93d2-9fb2dbd3c165",
   "metadata": {},
   "outputs": [
    {
     "name": "stdout",
     "output_type": "stream",
     "text": [
      "(1, 'Welcome', 2, 'Hope')\n"
     ]
    }
   ],
   "source": [
    "mixed_tuple = (1, 'Welcome', 2, 'Hope')\n",
    "print(mixed_tuple)"
   ]
  },
  {
   "cell_type": "code",
   "execution_count": 8,
   "id": "ac130af0-db4c-40b6-8c3a-1d22b7146ae7",
   "metadata": {},
   "outputs": [
    {
     "name": "stdout",
     "output_type": "stream",
     "text": [
      "(0, 1, 2, 3) ('python', 'HOPE')\n"
     ]
    }
   ],
   "source": [
    "Tuple1 = (0, 1, 2, 3)\n",
    "Tuple2 = ('python', 'HOPE')\n",
    "print(Tuple1, Tuple2)"
   ]
  },
  {
   "cell_type": "code",
   "execution_count": 9,
   "id": "b6afbf82-8237-4c6d-8e45-e07b7967eaf8",
   "metadata": {},
   "outputs": [
    {
     "name": "stdout",
     "output_type": "stream",
     "text": [
      "Print Odd Numbers in the list:\n",
      "19 is odd\n",
      "25 is odd\n",
      "1 is odd\n"
     ]
    }
   ],
   "source": [
    "numbers = (20, 10, 16, 19, 25, 1, 276, 188)\n",
    "\n",
    "print(\"Print Odd Numbers in the list:\")\n",
    "for num in numbers:\n",
    "    if num % 2 != 0:\n",
    "        print(num, \"is odd\")\n"
   ]
  },
  {
   "cell_type": "code",
   "execution_count": 11,
   "id": "a2e60395-81d1-47a4-95a9-0909525bec5d",
   "metadata": {},
   "outputs": [
    {
     "name": "stdout",
     "output_type": "stream",
     "text": [
      "Print Even Numbers in the list:\n",
      "20 is odd\n",
      "10 is odd\n",
      "16 is odd\n",
      "276 is odd\n",
      "188 is odd\n"
     ]
    }
   ],
   "source": [
    "numbers = (20, 10, 16, 19, 25, 1, 276, 188)\n",
    "\n",
    "print(\"Print Even Numbers in the list:\")\n",
    "for num in numbers:\n",
    "    if num % 2 == 0:\n",
    "        print(num, \"is odd\")\n"
   ]
  },
  {
   "cell_type": "code",
   "execution_count": null,
   "id": "c790078b-5f63-46c9-afe6-d89254e0373e",
   "metadata": {},
   "outputs": [],
   "source": []
  }
 ],
 "metadata": {
  "kernelspec": {
   "display_name": "Python 3 (ipykernel)",
   "language": "python",
   "name": "python3"
  },
  "language_info": {
   "codemirror_mode": {
    "name": "ipython",
    "version": 3
   },
   "file_extension": ".py",
   "mimetype": "text/x-python",
   "name": "python",
   "nbconvert_exporter": "python",
   "pygments_lexer": "ipython3",
   "version": "3.11.7"
  }
 },
 "nbformat": 4,
 "nbformat_minor": 5
}
