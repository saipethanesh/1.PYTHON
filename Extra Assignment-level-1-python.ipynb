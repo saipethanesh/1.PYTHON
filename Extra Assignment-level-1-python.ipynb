{
 "cells": [
  {
   "cell_type": "code",
   "execution_count": 10,
   "id": "e735c149-8384-4ff5-a384-4311f12a4715",
   "metadata": {},
   "outputs": [
    {
     "name": "stdout",
     "output_type": "stream",
     "text": [
      "HOPE AI\n"
     ]
    }
   ],
   "source": [
    "print(\"HOPE AI\")\n",
    "      "
   ]
  },
  {
   "cell_type": "code",
   "execution_count": 12,
   "id": "b07f886e-03e1-4198-a0f7-3c0b807269f5",
   "metadata": {},
   "outputs": [
    {
     "name": "stdin",
     "output_type": "stream",
     "text": [
      "Enter your institute name? :  HOPE AI\n"
     ]
    },
    {
     "name": "stdout",
     "output_type": "stream",
     "text": [
      "You entered institute name: HOPE AI\n"
     ]
    }
   ],
   "source": [
    "institute_name = input(\"Enter your institute name? : \")\n",
    "print(\"You entered institute name:\", institute_name)\n"
   ]
  },
  {
   "cell_type": "code",
   "execution_count": 3,
   "id": "196ee224-8efb-43c9-8345-885af60105fa",
   "metadata": {},
   "outputs": [
    {
     "name": "stdin",
     "output_type": "stream",
     "text": [
      "Enter your name:  Raj\n",
      "Enter your age:  15\n",
      "Enter your school name:  Guru school\n",
      "Enter your degree:   B.E CSE\n"
     ]
    },
    {
     "name": "stdout",
     "output_type": "stream",
     "text": [
      "Name: Raj\n",
      "Age: 15\n",
      "School Name: Guru school\n",
      "Degree:  B.E CSE\n"
     ]
    }
   ],
   "source": [
    "name = input(\"Enter your name: \")\n",
    "age = input(\"Enter your age: \")\n",
    "school_name = input(\"Enter your school name: \")\n",
    "degree = input(\"Enter your degree: \")\n",
    "print(\"Name:\", name)\n",
    "print(\"Age:\", age)\n",
    "print(\"School Name:\", school_name)\n",
    "print(\"Degree:\", degree)"
   ]
  },
  {
   "cell_type": "code",
   "execution_count": 4,
   "id": "23a3760f-26c5-4791-b939-f91143762c9b",
   "metadata": {},
   "outputs": [
    {
     "name": "stdout",
     "output_type": "stream",
     "text": [
      "The sum of 43 and 34 is: 77\n"
     ]
    }
   ],
   "source": [
    "a = 43\n",
    "b = 34\n",
    "add = a + b\n",
    "print(\"The sum of\", a, \"and\", b, \"is:\", add)"
   ]
  },
  {
   "cell_type": "code",
   "execution_count": 9,
   "id": "34b7aa5e-c669-4cbe-bf4f-8aa8c8bdb220",
   "metadata": {},
   "outputs": [
    {
     "name": "stdin",
     "output_type": "stream",
     "text": [
      "Enter the a:  43\n",
      "Enter the b:  34\n"
     ]
    },
    {
     "name": "stdout",
     "output_type": "stream",
     "text": [
      " add is :  77\n"
     ]
    }
   ],
   "source": [
    "num1 = float(input(\"Enter the a: \"))\n",
    "num2 = float(input(\"Enter the b: \"))\n",
    "add = a + b\n",
    "print(\" add is : \",add)\n"
   ]
  },
  {
   "cell_type": "code",
   "execution_count": 14,
   "id": "1befe625-b11f-4678-8211-fedf113abf46",
   "metadata": {},
   "outputs": [
    {
     "name": "stdin",
     "output_type": "stream",
     "text": [
      "Enter the a:  43\n",
      "Enter the b:  34\n"
     ]
    },
    {
     "name": "stdout",
     "output_type": "stream",
     "text": [
      " sub is :  9\n"
     ]
    }
   ],
   "source": [
    "num1 = float(input(\"Enter the a: \"))\n",
    "num2 = float(input(\"Enter the b: \"))\n",
    "sub = a - b\n",
    "print(\" sub is : \",sub)\n"
   ]
  },
  {
   "cell_type": "code",
   "execution_count": 15,
   "id": "3e1fff2f-bfaf-4d60-b652-e6c16bb2095b",
   "metadata": {},
   "outputs": [
    {
     "name": "stdin",
     "output_type": "stream",
     "text": [
      "Enter the a:  63\n",
      "Enter the b:  97\n"
     ]
    },
    {
     "name": "stdout",
     "output_type": "stream",
     "text": [
      " mul is :  1462\n"
     ]
    }
   ],
   "source": [
    "num1 = float(input(\"Enter the a: \"))\n",
    "num2 = float(input(\"Enter the b: \"))\n",
    "mul = a * b\n",
    "print(\" mul is : \",mul)"
   ]
  },
  {
   "cell_type": "code",
   "execution_count": 16,
   "id": "0a9d0737-6141-4a3e-81a1-39e367d1d20e",
   "metadata": {},
   "outputs": [
    {
     "name": "stdin",
     "output_type": "stream",
     "text": [
      "Enter the value of a:  76\n",
      "Enter the value of b:  31\n"
     ]
    },
    {
     "name": "stdout",
     "output_type": "stream",
     "text": [
      "Float Div = 2.4516129032258065\n"
     ]
    }
   ],
   "source": [
    "a = float(input(\"Enter the value of a: \"))\n",
    "b = float(input(\"Enter the value of b: \"))\n",
    "float_division_result = a / b\n",
    "print(\"Float Div =\", float_division_result)\n"
   ]
  },
  {
   "cell_type": "code",
   "execution_count": 18,
   "id": "98410b4a-ca00-4856-a12f-1b16c285853a",
   "metadata": {},
   "outputs": [
    {
     "name": "stdin",
     "output_type": "stream",
     "text": [
      "Enter the first number:  76\n",
      "Enter the second number:  31\n"
     ]
    },
    {
     "name": "stdout",
     "output_type": "stream",
     "text": [
      "Floor Division: 2\n"
     ]
    }
   ],
   "source": [
    "a = float(input(\"Enter the value of a:: \"))\n",
    "b = float(input(\"enter the value of b: \"))\n",
    "result = a // b\n",
    "print(\"Floor Division:\", result)"
   ]
  },
  {
   "cell_type": "code",
   "execution_count": 19,
   "id": "ff17ce95-9bb1-4b65-9396-3eee0eb643c7",
   "metadata": {},
   "outputs": [
    {
     "name": "stdin",
     "output_type": "stream",
     "text": [
      "Enter the first number:  76\n",
      "Enter the second number:  31\n"
     ]
    },
    {
     "name": "stdout",
     "output_type": "stream",
     "text": [
      "Modulo: 14\n"
     ]
    }
   ],
   "source": [
    "a = float(input(\"enter the value of a: \"))\n",
    "b = float(input(\"enter the value of b: \"))\n",
    "result = a % b\n",
    "print(\"Modulo:\", result)\n"
   ]
  },
  {
   "cell_type": "code",
   "execution_count": 20,
   "id": "02fd75f5-1957-471c-ad7e-0ae8cc75e7b9",
   "metadata": {},
   "outputs": [
    {
     "name": "stdin",
     "output_type": "stream",
     "text": [
      "Enter the base:  4\n",
      "Enter the exponent:  4\n"
     ]
    },
    {
     "name": "stdout",
     "output_type": "stream",
     "text": [
      "Result: 256.0\n"
     ]
    }
   ],
   "source": [
    "a = float(input(\"nter the value of a: \"))\n",
    "b = float(input(\"nter the value of b: \"))\n",
    "power = a ** b\n",
    "print(\"power:\", power)"
   ]
  },
  {
   "cell_type": "code",
   "execution_count": null,
   "id": "92f68ecd-0917-423d-8b0a-55e92da388be",
   "metadata": {},
   "outputs": [],
   "source": []
  }
 ],
 "metadata": {
  "kernelspec": {
   "display_name": "Python 3 (ipykernel)",
   "language": "python",
   "name": "python3"
  },
  "language_info": {
   "codemirror_mode": {
    "name": "ipython",
    "version": 3
   },
   "file_extension": ".py",
   "mimetype": "text/x-python",
   "name": "python",
   "nbconvert_exporter": "python",
   "pygments_lexer": "ipython3",
   "version": "3.11.7"
  }
 },
 "nbformat": 4,
 "nbformat_minor": 5
}
